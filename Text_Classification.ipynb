{
 "cells": [
  {
   "cell_type": "markdown",
   "metadata": {
    "deletable": true,
    "editable": true
   },
   "source": [
    "# Text Classification"
   ]
  },
  {
   "cell_type": "code",
   "execution_count": 1,
   "metadata": {
    "collapsed": false,
    "deletable": true,
    "editable": true
   },
   "outputs": [
    {
     "name": "stdout",
     "output_type": "stream",
     "text": [
      "[nltk_data] Downloading package wordnet to /Users/Prasann/nltk_data...\n",
      "[nltk_data]   Package wordnet is already up-to-date!\n",
      "[nltk_data] Downloading package stopwords to\n",
      "[nltk_data]     /Users/Prasann/nltk_data...\n",
      "[nltk_data]   Package stopwords is already up-to-date!\n"
     ]
    }
   ],
   "source": [
    "# Importing all libraries\n",
    "import sklearn\n",
    "import nltk\n",
    "nltk.download('wordnet')\n",
    "nltk.download('stopwords')\n",
    "from sklearn.datasets import fetch_20newsgroups\n",
    "from nltk.tokenize import sent_tokenize, word_tokenize\n",
    "from nltk.corpus import stopwords\n",
    "from nltk.stem.snowball import SnowballStemmer\n",
    "from nltk.tokenize import RegexpTokenizer\n",
    "import numpy as np\n",
    "from sklearn.feature_extraction.text import CountVectorizer\n",
    "from sklearn.feature_extraction.text import TfidfTransformer\n",
    "from sklearn.naive_bayes import MultinomialNB\n",
    "from sklearn.pipeline import Pipeline\n",
    "from sklearn import svm\n",
    "from sklearn.linear_model import SGDClassifier\n",
    "from sklearn.linear_model import LogisticRegression\n",
    "from sklearn.metrics import accuracy_score\n",
    "from sklearn.metrics import f1_score\n",
    "from sklearn.metrics import classification_report\n",
    "from sklearn import datasets\n",
    "from sklearn.model_selection import train_test_split\n",
    "from sklearn.metrics import confusion_matrix\n",
    "from sklearn.feature_extraction.text import TfidfVectorizer\n",
    "from sklearn.model_selection import GridSearchCV\n",
    "import gensim\n",
    "from gensim import models\n",
    "# To hide all warnings\n",
    "import warnings; warnings.simplefilter('ignore')"
   ]
  },
  {
   "cell_type": "markdown",
   "metadata": {},
   "source": [
    "# Fetching data and tokenizing"
   ]
  },
  {
   "cell_type": "code",
   "execution_count": 3,
   "metadata": {
    "collapsed": false,
    "deletable": true,
    "editable": true
   },
   "outputs": [
    {
     "name": "stdout",
     "output_type": "stream",
     "text": [
      "['from', 'guykuo', 'carson', 'u', 'washington', 'edu', 'guy', 'kuo', 'subject', 'si', 'clock', 'poll', 'final', 'call', 'summary', 'final', 'call', 'si', 'clock', 'reports', 'keywords', 'si', 'acceleration', 'clock', 'upgrade', 'article', 'i', 'd', 'shelley', '1qvfo9innc3s', 'organization', 'university', 'washington', 'lines', '11', 'nntp', 'posting', 'host', 'carson', 'u', 'washington', 'edu', 'a', 'fair', 'number', 'brave', 'souls', 'upgraded', 'si', 'clock', 'oscillator', 'shared', 'experiences', 'poll', 'please', 'send', 'brief', 'message', 'detailing', 'experiences', 'procedure', 'top', 'speed', 'attained', 'cpu', 'rated', 'speed', 'add', 'cards', 'adapters', 'heat', 'sinks', 'hour', 'usage', 'per', 'day', 'floppy', 'disk', 'functionality', '800', '1', '4', 'floppies', 'especially', 'requested', 'i', 'summarizing', 'next', 'two', 'days', 'please', 'add', 'network', 'knowledge', 'base', 'done', 'clock', 'upgrade', 'answered', 'poll', 'thanks']\n"
     ]
    }
   ],
   "source": [
    "# Fetching the 20 Newsgroups data from sklearn\n",
    "newsgroups_train = fetch_20newsgroups(subset='train',remove=('footers')) #Train Data\n",
    "twenty_test = fetch_20newsgroups(subset='test', shuffle=True, random_state=42) #Test Data\n",
    "\n",
    "# Building a tokenizer to remove stopwords, punctuations and stem all the words\n",
    "def my_tokenizer(s):\n",
    "    STOPWORDS = set(stopwords.words('english'))\n",
    "    stemmer = SnowballStemmer(\"english\", ignore_stopwords=True)\n",
    "    tokenizer = RegexpTokenizer(r'\\w+')\n",
    "    tokenized_data = tokenizer.tokenize(s)\n",
    "    new_tokenized = []\n",
    "    for word in tokenized_data:\n",
    "        if word not in STOPWORDS:\n",
    "            new_tokenized.append(word.lower())\n",
    "    return new_tokenized\n",
    "print(my_tokenizer(newsgroups_train.data[1]))"
   ]
  },
  {
   "cell_type": "markdown",
   "metadata": {},
   "source": [
    "# Classification"
   ]
  },
  {
   "cell_type": "code",
   "execution_count": 4,
   "metadata": {
    "collapsed": false,
    "deletable": true,
    "editable": true
   },
   "outputs": [
    {
     "name": "stdout",
     "output_type": "stream",
     "text": [
      "0.832182687201\n",
      "0.830892160204\n"
     ]
    }
   ],
   "source": [
    "# Using Naive Bayes Classfier\n",
    "text_clf_NB = Pipeline([('vect', CountVectorizer(stop_words=\"english\",tokenizer = my_tokenizer,ngram_range=(1, 2))),\n",
    "                     ('tfidf', TfidfTransformer(use_idf=True)),\n",
    "                     ('clf', MultinomialNB(alpha=0.01)),\n",
    "])\n",
    "text_clf_NB.fit(newsgroups_train.data, newsgroups_train.target)\n",
    "\n",
    "# Evaluation of performance on the test set\n",
    "NB_predicted = text_clf_NB.predict(twenty_test.data)\n",
    "NB_accuracy = text_clf_NB.score(twenty_test.data,twenty_test.target)\n",
    "NB_f1_score = f1_score(twenty_test.target, NB_predicted,average='weighted')\n",
    "print(NB_accuracy)\n",
    "print(NB_f1_score)\n",
    "\n",
    "# print(classification_report(twenty_test.target, NB_predicted, target_names=categories))"
   ]
  },
  {
   "cell_type": "code",
   "execution_count": 5,
   "metadata": {
    "collapsed": false,
    "deletable": true,
    "editable": true
   },
   "outputs": [
    {
     "name": "stdout",
     "output_type": "stream",
     "text": [
      "0.861789697292\n",
      "0.856518115916\n"
     ]
    }
   ],
   "source": [
    "# Using SVM Classfier\n",
    "text_clf_svm = Pipeline([('vect', CountVectorizer(stop_words='english',tokenizer = my_tokenizer,ngram_range=(1, 2))),\n",
    "                     ('tfidf', TfidfTransformer(use_idf=True)),\n",
    "                     ('clf', svm.LinearSVC(C=10))\n",
    "])\n",
    "text_clf_svm.fit(newsgroups_train.data, newsgroups_train.target)  \n",
    "\n",
    "svm_predicted = text_clf_svm.predict(twenty_test.data)\n",
    "svm_accuracy = text_clf_svm.score(twenty_test.data,twenty_test.target)  \n",
    "svm_f1_score = f1_score(twenty_test.target, svm_predicted,average='weighted')\n",
    "print(svm_accuracy)\n",
    "print(svm_f1_score)"
   ]
  },
  {
   "cell_type": "code",
   "execution_count": 6,
   "metadata": {
    "collapsed": false
   },
   "outputs": [
    {
     "name": "stdout",
     "output_type": "stream",
     "text": [
      "0.833377588954\n",
      "0.825013434044\n"
     ]
    }
   ],
   "source": [
    "# Using Logistic Regression Classifier\n",
    "text_clf_LR = Pipeline([('vect', CountVectorizer(stop_words='english',tokenizer = my_tokenizer)),\n",
    "                     ('tfidf', TfidfTransformer()),\n",
    "                     ('clf', LogisticRegression()),\n",
    "])\n",
    "text_clf_LR.fit(newsgroups_train.data, newsgroups_train.target)  \n",
    "\n",
    "LR_predicted = text_clf_LR.predict(twenty_test.data)\n",
    "LR_accuracy = text_clf_LR.score(twenty_test.data,twenty_test.target)    \n",
    "LR_f1_score = f1_score(twenty_test.target, LR_predicted,average='weighted')\n",
    "\n",
    "print(LR_accuracy)\n",
    "print(LR_f1_score)"
   ]
  },
  {
   "cell_type": "markdown",
   "metadata": {},
   "source": [
    "# Parameter tuning using GridSearch"
   ]
  },
  {
   "cell_type": "code",
   "execution_count": 8,
   "metadata": {
    "collapsed": true,
    "deletable": true,
    "editable": true
   },
   "outputs": [],
   "source": [
    "# Parameter tuning using GridSearch\n",
    "parameters = {'vect__ngram_range': [(1, 1), (1, 2)],\n",
    "              'tfidf__use_idf': (True, False),\n",
    "              'clf__C': [0.01, 10],\n",
    "}\n",
    "\n",
    "gs_clf_svm = GridSearchCV(text_clf_svm, parameters, n_jobs=-1)\n",
    "\n",
    "parameters_NB = {'vect__ngram_range': [(1, 1), (1, 2)],\n",
    "              'tfidf__use_idf': (True, False),\n",
    "              'clf__alpha': (1e-2, 1e-3),\n",
    "}\n",
    "\n",
    "gs_clf_NB = GridSearchCV(text_clf_NB, parameters_NB, n_jobs=-1)"
   ]
  },
  {
   "cell_type": "code",
   "execution_count": 10,
   "metadata": {
    "collapsed": false,
    "deletable": true,
    "editable": true
   },
   "outputs": [
    {
     "name": "stdout",
     "output_type": "stream",
     "text": [
      "0.861789697292\n",
      "0.832182687201\n"
     ]
    }
   ],
   "source": [
    "gs_clf_svm = gs_clf_svm.fit(newsgroups_train.data, newsgroups_train.target)\n",
    "gs_clf_NB = gs_clf_NB.fit(newsgroups_train.data, newsgroups_train.target)\n",
    "\n",
    "print(gs_clf_svm.score(twenty_test.data,twenty_test.target))\n",
    "print(gs_clf_NB.score(twenty_test.data,twenty_test.target))"
   ]
  },
  {
   "cell_type": "code",
   "execution_count": 63,
   "metadata": {
    "collapsed": false
   },
   "outputs": [
    {
     "name": "stdout",
     "output_type": "stream",
     "text": [
      "{'tfidf__use_idf': True, 'clf__C': 10, 'vect__ngram_range': (1, 2)}\n",
      "{'clf__alpha': 0.01, 'tfidf__use_idf': True, 'vect__ngram_range': (1, 2)}\n"
     ]
    }
   ],
   "source": [
    "# Best parameters for classfiers\n",
    "print(gs_clf_svm.best_params_)\n",
    "print(gs_clf_NB.best_params_)"
   ]
  },
  {
   "cell_type": "markdown",
   "metadata": {},
   "source": [
    "# Implementing Doc2Vec"
   ]
  },
  {
   "cell_type": "code",
   "execution_count": 11,
   "metadata": {
    "collapsed": false,
    "deletable": true,
    "editable": true
   },
   "outputs": [],
   "source": [
    "# Implementing Doc2Vec\n",
    "train_corpus = []\n",
    "counter = 0 \n",
    "for i in range(len(newsgroups_train.data)):\n",
    "    train_corpus.append(gensim.models.doc2vec.TaggedDocument(gensim.utils.simple_preprocess(newsgroups_train.data[i]), [i]))\n",
    "    counter += 1  "
   ]
  },
  {
   "cell_type": "code",
   "execution_count": 54,
   "metadata": {
    "collapsed": false,
    "deletable": true,
    "editable": true
   },
   "outputs": [
    {
     "name": "stdout",
     "output_type": "stream",
     "text": [
      "CPU times: user 2min 51s, sys: 4.43 s, total: 2min 55s\n",
      "Wall time: 1min 12s\n"
     ]
    }
   ],
   "source": [
    "# Training the model for different categories\n",
    "train_model = gensim.models.doc2vec.Doc2Vec(vector_size=50, min_count=2, epochs=25)\n",
    "train_model.build_vocab(train_corpus)\n",
    "%time train_model.train(train_corpus, total_examples=train_model.corpus_count, epochs=train_model.iter)"
   ]
  },
  {
   "cell_type": "code",
   "execution_count": 55,
   "metadata": {
    "collapsed": false,
    "deletable": true,
    "editable": true
   },
   "outputs": [],
   "source": [
    "# Getting train vectors from train data\n",
    "train_vectors = np.zeros((len(train_corpus), 50))\n",
    "for i in range(0, len(train_corpus)):\n",
    "    train_vectors[i] = train_model.docvecs[i]"
   ]
  },
  {
   "cell_type": "code",
   "execution_count": 56,
   "metadata": {
    "collapsed": false
   },
   "outputs": [],
   "source": [
    "# Creating test vectors from testing data\n",
    "test_corpus = []\n",
    "counter = 0\n",
    "for i in range(len(twenty_test.data)):\n",
    "    test_corpus.append(gensim.utils.simple_preprocess(twenty_test.data[i]))\n",
    "    counter += 1 \n",
    "\n",
    "test_vectors = np.zeros((len(test_corpus), 50))\n",
    "for i in range(0, len(test_corpus)):\n",
    "    test_vectors[i] = train_model.infer_vector(test_corpus[i])\n",
    "# print(test_vectors[0])"
   ]
  },
  {
   "cell_type": "code",
   "execution_count": 57,
   "metadata": {
    "collapsed": false
   },
   "outputs": [],
   "source": [
    "# print(test_corpus[0])"
   ]
  },
  {
   "cell_type": "code",
   "execution_count": 58,
   "metadata": {
    "collapsed": false
   },
   "outputs": [
    {
     "name": "stdout",
     "output_type": "stream",
     "text": [
      "0.552177376527\n",
      "0.535596170358\n"
     ]
    }
   ],
   "source": [
    "# Training classifiers on doc2vec trained vectors\n",
    "NB_d2v = svm.LinearSVC(C=10)\n",
    "NB_d2v.fit(train_vectors,newsgroups_train.target)\n",
    "\n",
    "NB_d2v_predicted = NB_d2v.predict(test_vectors)\n",
    "NB_d2v_accuracy = NB_d2v.score(test_vectors,twenty_test.target)\n",
    "NB_d2v_f1_score = f1_score(twenty_test.target, NB_d2v_predicted,average='weighted')\n",
    "print(NB_d2v_accuracy)\n",
    "print(NB_d2v_f1_score)"
   ]
  },
  {
   "cell_type": "markdown",
   "metadata": {},
   "source": [
    "# Evaluating classifiers"
   ]
  },
  {
   "cell_type": "code",
   "execution_count": 59,
   "metadata": {
    "collapsed": true
   },
   "outputs": [],
   "source": [
    "model_names = [\"NB\",\"SVM\",\"LR\",\"Doc2Vec\"]\n",
    "model_num = [0,1,2,3]"
   ]
  },
  {
   "cell_type": "code",
   "execution_count": 60,
   "metadata": {
    "collapsed": false
   },
   "outputs": [
    {
     "data": {
      "image/png": "[encoded data removed]",
      "text/plain": [
       "<matplotlib.figure.Figure at 0x1a241ba940>"
      ]
     },
     "metadata": {},
     "output_type": "display_data"
    }
   ],
   "source": [
    "# Plotting model accuracies beside each other to test\n",
    "from matplotlib import pyplot as plt\n",
    "plt.bar(model_num, [NB_accuracy,svm_accuracy,LR_accuracy,NB_d2v_accuracy], align='center', alpha=0.5,color='red')\n",
    "plt.xticks(model_num, model_names)\n",
    "plt.ylabel(\"Accuracy\")\n",
    "# plt.xlabel(\"Categories\")\n",
    "plt.title(\"Comparing Accuracies\")\n",
    "plt.show()"
   ]
  },
  {
   "cell_type": "code",
   "execution_count": 61,
   "metadata": {
    "collapsed": false
   },
   "outputs": [
    {
     "data": {
      "image/png": "[encoded data removed]",
      "text/plain": [
       "<matplotlib.figure.Figure at 0x1a94865828>"
      ]
     },
     "metadata": {},
     "output_type": "display_data"
    }
   ],
   "source": [
    "plt.bar(model_num, [NB_f1_score,svm_f1_score,LR_f1_score,NB_d2v_f1_score], align='center', alpha=0.5,color='blue')\n",
    "plt.xticks(model_num, model_names)\n",
    "plt.ylabel(\"F1 Score\")\n",
    "# plt.xlabel(\"Categories\")\n",
    "plt.title(\"Comparing F1 Scores\")\n",
    "plt.show()"
   ]
  },
  {
   "cell_type": "code",
   "execution_count": null,
   "metadata": {
    "collapsed": true
   },
   "outputs": [],
   "source": [
    "# Data exploration\n",
    "# category_data = fetch_20newsgroups(subset='train',remove=('footers'))\n",
    "# vectorizer = TfidfVectorizer(use_idf=True)\n",
    "# tfidf = vectorizer.fit_transform(newsgroups_train.data)\n",
    "# tfidf_array = tfidf.toarray()\n",
    "# feature_names = vectorizer.get_feature_names()\n",
    "\n",
    "# STOPWORDS = set(stopwords.words('english'))\n",
    "# for i in range(500):\n",
    "#     a=0\n",
    "#     for j in range(len(tfidf_array[i])):\n",
    "#         if(tfidf_array[i][j]>0.6):\n",
    "#             if feature_names[j] not in STOPWORDS:\n",
    "# #                 if feature_names[j] not in ['edu','000']:\n",
    "#                 print(i,'-',feature_names[j],'-',tfidf_array[i][j])"
   ]
  },
  {
   "cell_type": "code",
   "execution_count": null,
   "metadata": {
    "collapsed": true
   },
   "outputs": [],
   "source": [
    "# vectorizer_2 = TfidfVectorizer(use_idf=True)\n",
    "# tfidf_2 = vectorizer_2.fit_transform(categories_text)\n",
    "# tfidf_array_2 = tfidf_2.toarray()\n",
    "# feature_names_2 = vectorizer_2.get_feature_names()"
   ]
  },
  {
   "cell_type": "code",
   "execution_count": null,
   "metadata": {
    "collapsed": true
   },
   "outputs": [],
   "source": [
    "# len_category = []\n",
    "# for i in range(len(categories)):\n",
    "# #     print(categories[i])\n",
    "#     fetch_data = fetch_20newsgroups(subset='test',remove=('footers'),categories=[categories[i]])\n",
    "#     len_category.append(len(fetch_data.data))\n",
    "# print(len_category)\n",
    "    \n",
    "\n",
    "# cat_num=np.arange(len(categories))\n",
    "# plt.bar(cat_num, len_category, align='center', alpha=0.5)\n",
    "# plt.xticks(cat_num)\n",
    "# plt.ylabel(\"No. of articles\")\n",
    "# plt.xlabel(\"Categories\")\n",
    "# plt.title(\"Test data\")\n",
    "# plt.show()"
   ]
  },
  {
   "cell_type": "code",
   "execution_count": null,
   "metadata": {
    "collapsed": true
   },
   "outputs": [],
   "source": [
    "# print(len(twenty_test.data))\n",
    "# print()\n",
    "# plt.bar([1,2], [len(newsgroups_train.data),len(twenty_test.data)], align='center', alpha=0.5)\n",
    "# plt.xticks([1,2], [\"Train\", \"Test\"])\n",
    "# plt.ylabel(\"No. of articles\")\n",
    "# # plt.xlabel(\"Categories\")\n",
    "# plt.title(\"Train-Test split\")\n",
    "# plt.show()"
   ]
  },
  {
   "cell_type": "code",
   "execution_count": null,
   "metadata": {
    "collapsed": true
   },
   "outputs": [],
   "source": [
    "# import matplotlib.pyplot as plt\n",
    "\n",
    "# result_array = []\n",
    "# STOPWORDS = set(stopwords.words('english'))\n",
    "# for i in range(len(tfidf_array_2)):\n",
    "#     a=0\n",
    "#     cat = categories[i]\n",
    "#     tfidf_score = []\n",
    "#     for j in range(len(tfidf_array_2[i])):\n",
    "#         if(tfidf_array_2[i][j]>0.07):\n",
    "#             if feature_names_2[j] not in STOPWORDS:\n",
    "# #                 if feature_names[j] not in ['edu','000']:\n",
    "#                 tfidf_score.append((tfidf_array_2[i][j],feature_names_2[j]))\n",
    "# #                 print(categories[i],'-',feature_names_2[j],'-',tfidf_array_2[i][j])\n",
    "#     tfidf_score = sorted(tfidf_score, key=lambda sort: sort[0], reverse=True)\n",
    "#     scores = []\n",
    "#     imp_words = []\n",
    "#     for i in range(len(tfidf_score)):\n",
    "#         scores.append(tfidf_score[i][0])\n",
    "#         imp_words.append(tfidf_score[i][1])\n",
    "#     words_num = np.arange(len(imp_words))\n",
    "# #     print(scores)\n",
    "#     plt.bar(words_num, scores, align='center', alpha=0.5)\n",
    "#     plt.xticks(words_num, imp_words)\n",
    "#     plt.ylabel(\"Tf-idf weight\")\n",
    "#     plt.title(cat)\n",
    "#     plt.show()"
   ]
  },
  {
   "cell_type": "code",
   "execution_count": null,
   "metadata": {
    "collapsed": true,
    "deletable": true,
    "editable": true
   },
   "outputs": [],
   "source": [
    "# # For plotting Confusion Matrix\n",
    "# class_names = newsgroups_train.target_names\n",
    "# import matplotlib.pyplot as plt\n",
    "# def plot_confusion_matrix(cm, classes,\n",
    "#                           normalize=False,\n",
    "#                           title='Confusion matrix',\n",
    "#                           cmap=plt.cm.Blues):\n",
    "#     \"\"\"\n",
    "#     This function prints and plots the confusion matrix.\n",
    "#     Normalization can be applied by setting `normalize=True`.\n",
    "#     \"\"\"\n",
    "#     if normalize:\n",
    "#         cm = cm.astype('float') / cm.sum(axis=1)[:, np.newaxis]\n",
    "#         print(\"Normalized confusion matrix\")\n",
    "#     else:\n",
    "#         print('Confusion matrix, without normalization')\n",
    "\n",
    "#     print(cm)\n",
    "\n",
    "#     plt.imshow(cm, interpolation='nearest', cmap=cmap)\n",
    "#     plt.title(title)\n",
    "#     plt.colorbar()\n",
    "#     tick_marks = np.arange(len(classes))\n",
    "#     plt.xticks(tick_marks, classes, rotation=45)\n",
    "#     plt.yticks(tick_marks, classes)\n",
    "\n",
    "#     fmt = '.2f' if normalize else 'd'\n",
    "#     thresh = cm.max() / 2.\n",
    "#     for i, j in itertools.product(range(cm.shape[0]), range(cm.shape[1])):\n",
    "#         plt.text(j, i, format(cm[i, j], fmt),\n",
    "#                  horizontalalignment=\"center\",\n",
    "#                  color=\"white\" if cm[i, j] > thresh else \"black\")\n",
    "\n",
    "#     plt.tight_layout()\n",
    "#     plt.ylabel('True label')\n",
    "#     plt.xlabel('Predicted label')\n",
    "\n",
    "# Tokenizing text with word counts\n",
    "# from sklearn.feature_extraction.text import CountVectorizer\n",
    "# count_vect = CountVectorizer(stop_words='english',tokenizer = my_tokenizer)\n",
    "# X_train_counts = count_vect.fit_transform(newsgroups_train.data)\n",
    "\n",
    "# # Converting occurances to TF-IDF\n",
    "# from sklearn.feature_extraction.text import TfidfTransformer\n",
    "# # vectorizer = TfidfVectorizer(stop_words='english')\n",
    "# # X_train_tfidf = vectorizer.fit_transform(newsgroups_train.data)\n",
    "# tfidf_transformer = TfidfTransformer()\n",
    "# X_train_tfidf = tfidf_transformer.fit_transform(X_train_counts)\n",
    "# X_train_tfidf.shape\n",
    "\n",
    "# array = X_train_tfidf.toarray() \n",
    "# feature_names = vectorizer.get_feature_names()\n",
    "# for j in range(len(array[0])):\n",
    "#     if(array[1][j]>0.2):\n",
    "#         print(feature_names[j],'-',array[1][j])\n",
    "\n",
    "# # Training a Classifier\n",
    "# from sklearn.naive_bayes import MultinomialNB\n",
    "# clf = MultinomialNB().fit(X_train_tfidf, newsgroups_train.target)\n",
    "\n",
    "# # Predict categories on new docs\n",
    "# docs_new = ['Syria is in a state of war', 'bautista played a home run']\n",
    "# X_new_counts = count_vect.transform(docs_new)\n",
    "# X_new_tfidf = tfidf_transformer.transform(X_new_counts)\n",
    "# predicted = clf.predict(X_new_tfidf)\n",
    "\n",
    "# for doc, category in zip(docs_new, predicted):\n",
    "#     print('%r => %s' % (doc, newsgroups_train.target_names[category]))"
   ]
  },
  {
   "cell_type": "code",
   "execution_count": null,
   "metadata": {
    "collapsed": true
   },
   "outputs": [],
   "source": [
    "# categories_text = []\n",
    "# for j in range(20):\n",
    "#     categories_text.append(\"\")\n",
    "# # Arranging the text into categories to prepare data to be trained using doc2vec\n",
    "# for i in range(len(newsgroups_train.data)):\n",
    "#     if(newsgroups_train.target_names[newsgroups_train.target[i]]==categories[0]):\n",
    "#         categories_text[0] += newsgroups_train.data[i]\n",
    "#     elif(newsgroups_train.target_names[newsgroups_train.target[i]]==categories[1]):\n",
    "#         categories_text[1] += newsgroups_train.data[i]\n",
    "#     elif(newsgroups_train.target_names[newsgroups_train.target[i]]==categories[2]):\n",
    "#         categories_text[2] += newsgroups_train.data[i]\n",
    "#     elif(newsgroups_train.target_names[newsgroups_train.target[i]]==categories[3]):\n",
    "#         categories_text[3] += newsgroups_train.data[i]\n",
    "#     elif(newsgroups_train.target_names[newsgroups_train.target[i]]==categories[4]):\n",
    "#         categories_text[4] += newsgroups_train.data[i]\n",
    "#     elif(newsgroups_train.target_names[newsgroups_train.target[i]]==categories[5]):\n",
    "#         categories_text[5] += newsgroups_train.data[i]\n",
    "#     elif(newsgroups_train.target_names[newsgroups_train.target[i]]==categories[6]):\n",
    "#         categories_text[6] += newsgroups_train.data[i]\n",
    "#     elif(newsgroups_train.target_names[newsgroups_train.target[i]]==categories[7]):\n",
    "#         categories_text[7] += newsgroups_train.data[i]\n",
    "#     elif(newsgroups_train.target_names[newsgroups_train.target[i]]==categories[8]):\n",
    "#         categories_text[8] += newsgroups_train.data[i]\n",
    "#     elif(newsgroups_train.target_names[newsgroups_train.target[i]]==categories[9]):\n",
    "#         categories_text[9] += newsgroups_train.data[i]\n",
    "#     elif(newsgroups_train.target_names[newsgroups_train.target[i]]==categories[10]):\n",
    "#         categories_text[10] += newsgroups_train.data[i]\n",
    "#     elif(newsgroups_train.target_names[newsgroups_train.target[i]]==categories[11]):\n",
    "#         categories_text[11] += newsgroups_train.data[i]\n",
    "#     elif(newsgroups_train.target_names[newsgroups_train.target[i]]==categories[12]):\n",
    "#         categories_text[12] += newsgroups_train.data[i]\n",
    "#     elif(newsgroups_train.target_names[newsgroups_train.target[i]]==categories[13]):\n",
    "#         categories_text[13] += newsgroups_train.data[i]\n",
    "#     elif(newsgroups_train.target_names[newsgroups_train.target[i]]==categories[14]):\n",
    "#         categories_text[14] += newsgroups_train.data[i]\n",
    "#     elif(newsgroups_train.target_names[newsgroups_train.target[i]]==categories[15]):\n",
    "#         categories_text[15] += newsgroups_train.data[i]\n",
    "#     elif(newsgroups_train.target_names[newsgroups_train.target[i]]==categories[16]):\n",
    "#         categories_text[16] += newsgroups_train.data[i]\n",
    "#     elif(newsgroups_train.target_names[newsgroups_train.target[i]]==categories[17]):\n",
    "#         categories_text[17] += newsgroups_train.data[i]\n",
    "#     elif(newsgroups_train.target_names[newsgroups_train.target[i]]==categories[18]):\n",
    "#         categories_text[18] += newsgroups_train.data[i]\n",
    "#     elif(newsgroups_train.target_names[newsgroups_train.target[i]]==categories[19]):\n",
    "#         categories_text[19] += newsgroups_train.data[i]\n",
    "\n",
    "\n",
    "# categories_text_test = []\n",
    "# for j in range(20):\n",
    "#     categories_text_test.append(\"\")\n",
    "# for i in range(len(twenty_test.data)):\n",
    "#     if(twenty_test.target_names[twenty_test.target[i]]==categories[0]):\n",
    "#         categories_text_test[0] += twenty_test.data[i]\n",
    "#     elif(twenty_test.target_names[twenty_test.target[i]]==categories[1]):\n",
    "#         categories_text_test[1] += twenty_test.data[i]\n",
    "#     elif(twenty_test.target_names[twenty_test.target[i]]==categories[2]):\n",
    "#         categories_text_test[2] += twenty_test.data[i]\n",
    "#     elif(twenty_test.target_names[twenty_test.target[i]]==categories[3]):\n",
    "#         categories_text_test[3] += twenty_test.data[i]\n",
    "#     elif(twenty_test.target_names[twenty_test.target[i]]==categories[4]):\n",
    "#         categories_text_test[4] += twenty_test.data[i]\n",
    "#     elif(twenty_test.target_names[twenty_test.target[i]]==categories[5]):\n",
    "#         categories_text_test[5] += twenty_test.data[i]\n",
    "#     elif(twenty_test.target_names[twenty_test.target[i]]==categories[6]):\n",
    "#         categories_text_test[6] += twenty_test.data[i]\n",
    "#     elif(twenty_test.target_names[twenty_test.target[i]]==categories[7]):\n",
    "#         categories_text_test[7] += twenty_test.data[i]\n",
    "#     elif(twenty_test.target_names[twenty_test.target[i]]==categories[8]):\n",
    "#         categories_text_test[8] += twenty_test.data[i]\n",
    "#     elif(twenty_test.target_names[twenty_test.target[i]]==categories[9]):\n",
    "#         categories_text_test[9] += twenty_test.data[i]\n",
    "#     elif(twenty_test.target_names[twenty_test.target[i]]==categories[10]):\n",
    "#         categories_text_test[10] += twenty_test.data[i]\n",
    "#     elif(twenty_test.target_names[twenty_test.target[i]]==categories[11]):\n",
    "#         categories_text_test[11] += twenty_test.data[i]\n",
    "#     elif(twenty_test.target_names[twenty_test.target[i]]==categories[12]):\n",
    "#         categories_text_test[12] += twenty_test.data[i]\n",
    "#     elif(twenty_test.target_names[twenty_test.target[i]]==categories[13]):\n",
    "#         categories_text_test[13] += twenty_test.data[i]\n",
    "#     elif(twenty_test.target_names[twenty_test.target[i]]==categories[14]):\n",
    "#         categories_text_test[14] += twenty_test.data[i]\n",
    "#     elif(twenty_test.target_names[twenty_test.target[i]]==categories[15]):\n",
    "#         categories_text_test[15] += twenty_test.data[i]\n",
    "#     elif(twenty_test.target_names[twenty_test.target[i]]==categories[16]):\n",
    "#         categories_text_test[16] += twenty_test.data[i]\n",
    "#     elif(twenty_test.target_names[twenty_test.target[i]]==categories[17]):\n",
    "#         categories_text_test[17] += twenty_test.data[i]\n",
    "#     elif(twenty_test.target_names[twenty_test.target[i]]==categories[18]):\n",
    "#         categories_text_test[18] += twenty_test.data[i]\n",
    "#     elif(twenty_test.target_names[twenty_test.target[i]]==categories[19]):\n",
    "#         categories_text_test[19] += twenty_test.data[i]\n",
    "    "
   ]
  }
 ],
 "metadata": {
  "kernelspec": {
   "display_name": "Python 3",
   "language": "python",
   "name": "python3"
  },
  "language_info": {
   "codemirror_mode": {
    "name": "ipython",
    "version": 3
   },
   "file_extension": ".py",
   "mimetype": "text/x-python",
   "name": "python",
   "nbconvert_exporter": "python",
   "pygments_lexer": "ipython3",
   "version": "3.5.3"
  }
 },
 "nbformat": 4,
 "nbformat_minor": 2
}
